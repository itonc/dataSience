{
 "cells": [
  {
   "cell_type": "markdown",
   "metadata": {},
   "source": [
    "本文档是一个使用jieba工具进行中国行政区抽取的demo"
   ]
  },
  {
   "cell_type": "code",
   "execution_count": null,
   "metadata": {
    "collapsed": true
   },
   "outputs": [],
   "source": [
    "import jieba\n",
    "jieba.load_userdict('adminname.txt')"
   ]
  },
  {
   "cell_type": "code",
   "execution_count": null,
   "metadata": {
    "collapsed": true
   },
   "outputs": [],
   "source": [
    "address = [\"山东省济宁市邹城市孟子大道前韩村东北991米\",\n",
    "\"湖北省恩施土家族苗族自治州宣恩县G6911(安来高速)酸枣坪北526米\",\n",
    "\"广东省惠州市惠城区S120(龙和路)\",\n",
    "\"湖南省邵阳市大祥区G60(潭邵高速)\",\n",
    "\"湖南省衡阳市衡南县兴中成不锈钢衡南县总代理西120米\"\n",
    "          \n",
    "          ]"
   ]
  }
 ],
 "metadata": {
  "kernelspec": {
   "display_name": "Python 3",
   "language": "python",
   "name": "python3"
  },
  "language_info": {
   "codemirror_mode": {
    "name": "ipython",
    "version": 3
   },
   "file_extension": ".py",
   "mimetype": "text/x-python",
   "name": "python",
   "nbconvert_exporter": "python",
   "pygments_lexer": "ipython3",
   "version": "3.6.2"
  }
 },
 "nbformat": 4,
 "nbformat_minor": 2
}
